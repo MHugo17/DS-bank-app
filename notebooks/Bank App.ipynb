{
 "cells": [
  {
   "cell_type": "code",
   "execution_count": 1,
   "metadata": {},
   "outputs": [],
   "source": [
    "%load_ext autoreload\n",
    "%autoreload 2"
   ]
  },
  {
   "cell_type": "code",
   "execution_count": 3,
   "metadata": {},
   "outputs": [],
   "source": [
    "from app import Bank"
   ]
  },
  {
   "cell_type": "code",
   "execution_count": 53,
   "metadata": {},
   "outputs": [],
   "source": [
    "bank = Bank('DKB')\n",
    "bank2 = Bank('ING')"
   ]
  },
  {
   "cell_type": "code",
   "execution_count": 54,
   "metadata": {},
   "outputs": [
    {
     "name": "stdout",
     "output_type": "stream",
     "text": [
      "Bank: DKB\n",
      "Accounts: []\n",
      "Transactions: []\n"
     ]
    }
   ],
   "source": [
    "print(f'Bank: {bank.name}')\n",
    "print(f'Accounts: {bank.accounts}')\n",
    "print(f'Transactions: {bank.transactions}')"
   ]
  },
  {
   "cell_type": "code",
   "execution_count": 79,
   "metadata": {},
   "outputs": [],
   "source": [
    "accounts = [{'number': 1,'firstname': 'Albert','lastname': 'Einstein',},\n",
    "    {'number': 2,'firstname': 'Martin','lastname': 'Hugo',},]\n",
    "\n",
    "for account in accounts:\n",
    "    bank.open_account(account)"
   ]
  },
  {
   "cell_type": "code",
   "execution_count": 80,
   "metadata": {},
   "outputs": [
    {
     "data": {
      "text/plain": [
       "[{'number': 1, 'firstname': 'Albert', 'lastname': 'Einstein'},\n",
       " {'number': 2, 'firstname': 'Martin', 'lastname': 'Hugo'},\n",
       " {'number': 3, 'firstname': 'MiguelAngel', 'lastname': 'Sequeda'},\n",
       " {'number': 3, 'firstname': 'MiguelAngel', 'lastname': 'Sequeda'},\n",
       " {'number': 1, 'firstname': 'Albert', 'lastname': 'Einstein'},\n",
       " {'number': 2, 'firstname': 'Martin', 'lastname': 'Hugo'},\n",
       " {'number': 1, 'firstname': 'Albert', 'lastname': 'Einstein'},\n",
       " {'number': 2, 'firstname': 'Martin', 'lastname': 'Hugo'}]"
      ]
     },
     "execution_count": 80,
     "metadata": {},
     "output_type": "execute_result"
    }
   ],
   "source": [
    "bank.accounts"
   ]
  },
  {
   "cell_type": "code",
   "execution_count": 56,
   "metadata": {},
   "outputs": [
    {
     "data": {
      "text/plain": [
       "{'number': 1, 'firstname': 'Albert', 'lastname': 'Einstein'}"
      ]
     },
     "execution_count": 56,
     "metadata": {},
     "output_type": "execute_result"
    }
   ],
   "source": [
    "account1= {'number': 1,'firstname': 'Albert','lastname': 'Einstein',}\n",
    "bank.open_account(account1)"
   ]
  },
  {
   "cell_type": "code",
   "execution_count": 57,
   "metadata": {},
   "outputs": [
    {
     "name": "stdout",
     "output_type": "stream",
     "text": [
      "Accounts: [{'number': 1, 'firstname': 'Albert', 'lastname': 'Einstein'}]\n"
     ]
    }
   ],
   "source": [
    "print(f'Accounts: {bank.accounts}')"
   ]
  },
  {
   "cell_type": "code",
   "execution_count": 58,
   "metadata": {},
   "outputs": [
    {
     "data": {
      "text/plain": [
       "{'number': 2, 'firstname': 'Martin', 'lastname': 'Hugo'}"
      ]
     },
     "execution_count": 58,
     "metadata": {},
     "output_type": "execute_result"
    }
   ],
   "source": [
    "account2 = {'number': 2,'firstname': 'Martin','lastname': 'Hugo',}\n",
    "bank.open_account(account2)"
   ]
  },
  {
   "cell_type": "code",
   "execution_count": 59,
   "metadata": {},
   "outputs": [
    {
     "data": {
      "text/plain": [
       "[{'number': 1, 'firstname': 'Albert', 'lastname': 'Einstein'},\n",
       " {'number': 2, 'firstname': 'Martin', 'lastname': 'Hugo'}]"
      ]
     },
     "execution_count": 59,
     "metadata": {},
     "output_type": "execute_result"
    }
   ],
   "source": [
    "bank.accounts"
   ]
  },
  {
   "cell_type": "code",
   "execution_count": 60,
   "metadata": {},
   "outputs": [
    {
     "data": {
      "text/plain": [
       "[]"
      ]
     },
     "execution_count": 60,
     "metadata": {},
     "output_type": "execute_result"
    }
   ],
   "source": [
    "bank.transactions"
   ]
  },
  {
   "cell_type": "code",
   "execution_count": 61,
   "metadata": {},
   "outputs": [
    {
     "data": {
      "text/plain": [
       "{'sender': {'number': 1, 'firstname': 'Albert', 'lastname': 'Einstein'},\n",
       " 'recipient': {'number': 2, 'firstname': 'Martin', 'lastname': 'Hugo'},\n",
       " 'subject': 'Bücher',\n",
       " 'amount': 50}"
      ]
     },
     "execution_count": 61,
     "metadata": {},
     "output_type": "execute_result"
    }
   ],
   "source": [
    "bank.add_transaction (sender= account1, recipient= account2, subject='Bücher',amount=50)"
   ]
  },
  {
   "cell_type": "code",
   "execution_count": 72,
   "metadata": {},
   "outputs": [
    {
     "data": {
      "text/plain": [
       "{'number': 3, 'firstname': 'MiguelAngel', 'lastname': 'Sequeda'}"
      ]
     },
     "execution_count": 72,
     "metadata": {},
     "output_type": "execute_result"
    }
   ],
   "source": [
    "account3 = {'number': 3,'firstname': 'MiguelAngel','lastname': 'Sequeda',}\n",
    "bank.open_account(account)"
   ]
  },
  {
   "cell_type": "code",
   "execution_count": 73,
   "metadata": {},
   "outputs": [
    {
     "data": {
      "text/plain": [
       "{'sender': {'number': 1, 'firstname': 'Albert', 'lastname': 'Einstein'},\n",
       " 'recipient': {'number': 3, 'firstname': 'MiguelAngel', 'lastname': 'Sequeda'},\n",
       " 'subject': 'Cerveza',\n",
       " 'amount': 80}"
      ]
     },
     "execution_count": 73,
     "metadata": {},
     "output_type": "execute_result"
    }
   ],
   "source": [
    "bank.add_transaction (sender= account1, recipient= account3, subject='Cerveza',amount=80)"
   ]
  },
  {
   "cell_type": "code",
   "execution_count": 74,
   "metadata": {},
   "outputs": [
    {
     "name": "stdout",
     "output_type": "stream",
     "text": [
      "Bank: DKB\n",
      "Accounts: [{'number': 1, 'firstname': 'Albert', 'lastname': 'Einstein'}, {'number': 2, 'firstname': 'Martin', 'lastname': 'Hugo'}, {'number': 3, 'firstname': 'MiguelAngel', 'lastname': 'Sequeda'}, {'number': 3, 'firstname': 'MiguelAngel', 'lastname': 'Sequeda'}]\n",
      "Transactions: [{'sender': {'number': 1, 'firstname': 'Albert', 'lastname': 'Einstein'}, 'recipient': {'number': 2, 'firstname': 'Martin', 'lastname': 'Hugo'}, 'subject': 'Bücher', 'amount': 50}, {'sender': 'Einstein', 'recipient': 'MiguelAngel', 'subject': 'Cerveza', 'amount': 80}, {'sender': {'number': 1, 'firstname': 'Albert', 'lastname': 'Einstein'}, 'recipient': {'number': 3, 'firstname': 'MiguelAngel', 'lastname': 'Sequeda'}, 'subject': 'Cerveza', 'amount': 80}, {'sender': {'number': 1, 'firstname': 'Albert', 'lastname': 'Einstein'}, 'recipient': {'number': 3, 'firstname': 'MiguelAngel', 'lastname': 'Sequeda'}, 'subject': 'Cerveza', 'amount': 80}]\n"
     ]
    }
   ],
   "source": [
    "print(f'Bank: {bank.name}')\n",
    "print(f'Accounts: {bank.accounts}')\n",
    "print(f'Transactions: {bank.transactions}')"
   ]
  },
  {
   "cell_type": "code",
   "execution_count": 75,
   "metadata": {},
   "outputs": [
    {
     "name": "stdout",
     "output_type": "stream",
     "text": [
      "Bank: ING\n",
      "Accounts: [{'number': 3, 'firstname': 'MiguelAngel', 'lastname': 'Sequeda'}, {'number': 3, 'firstname': 'MiguelAngel', 'lastname': 'Sequeda'}]\n",
      "Transactions: []\n"
     ]
    }
   ],
   "source": [
    "print(f'Bank: {bank2.name}')\n",
    "print(f'Accounts: {bank2.accounts}')\n",
    "print(f'Transactions: {bank2.transactions}')"
   ]
  },
  {
   "cell_type": "code",
   "execution_count": null,
   "metadata": {},
   "outputs": [],
   "source": [
    "bank2.add_transaction (sender= MiguelAngel, recipient= Martin Hugo )"
   ]
  },
  {
   "cell_type": "code",
   "execution_count": 76,
   "metadata": {},
   "outputs": [
    {
     "data": {
      "text/plain": [
       "4"
      ]
     },
     "execution_count": 76,
     "metadata": {},
     "output_type": "execute_result"
    }
   ],
   "source": [
    "len(bank.transactions)"
   ]
  },
  {
   "cell_type": "code",
   "execution_count": null,
   "metadata": {},
   "outputs": [],
   "source": []
  }
 ],
 "metadata": {
  "kernelspec": {
   "display_name": "Python 3",
   "language": "python",
   "name": "python3"
  },
  "language_info": {
   "codemirror_mode": {
    "name": "ipython",
    "version": 3
   },
   "file_extension": ".py",
   "mimetype": "text/x-python",
   "name": "python",
   "nbconvert_exporter": "python",
   "pygments_lexer": "ipython3",
   "version": "3.6.8"
  }
 },
 "nbformat": 4,
 "nbformat_minor": 2
}
